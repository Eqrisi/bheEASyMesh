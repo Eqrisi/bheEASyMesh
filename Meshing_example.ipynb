{
 "cells": [
  {
   "cell_type": "markdown",
   "metadata": {},
   "source": [
    "## 1. Load python-module"
   ]
  },
  {
   "cell_type": "code",
   "execution_count": 4,
   "metadata": {},
   "outputs": [],
   "source": [
    "from bheEASyMesh.bhemeshing import BHEMesh"
   ]
  },
  {
   "cell_type": "markdown",
   "metadata": {},
   "source": [
    "## 2. Define mesh-properties"
   ]
  },
  {
   "cell_type": "code",
   "execution_count": 5,
   "metadata": {},
   "outputs": [],
   "source": [
    "# Define name and path of the Mesh\n",
    "Mesh_name = 'Test'\n",
    "\n",
    "# Define Mesh Input:\n",
    "meshInput = { \"WIDTH\": 50, # Width of Mesh\n",
    "              \"LENGTH\": 50,\n",
    "              \"BOX\": [12.5, 25, 25],\n",
    "              \"ELEM_SIZE\": [5, 10],\n",
    "              \"dzLAYER\": 5,\n",
    "              \"dzREF\": 1,\n",
    "              \"nREF\":3,\n",
    "              \"BHEpos\": [0, 25], \n",
    "              \"BHEtopend\": -0.5,\n",
    "              \"zExt\": 50,\n",
    "              \"inflow_max_z\": -10, \n",
    "              \"BHELen\": 90, # bhe length\n",
    "              \"r_b\": 0.076, # Borholeradius\n",
    "              \"t_aqf\": 0.5, # thickness of Area with groundwater flow; relative parameter related to the value of Len -|inflow_max_z|\n",
    "              \"z_aqf\": 0.25 # to z-level of Area with groundwater flow; relative parameter related to the value of Len -|inflow_max_z|   \n",
    "            }\n",
    "\n",
    "# Define Temperature IC:\n",
    "temperature_IC = {\"seasonal\": -15, \n",
    "                \"neutral\": -30,\n",
    "                \"gradient\":0.032,\n",
    "                \"sf_temp\":3.155,\n",
    "                \"reference\": [99, 99],\n",
    "                \"seasonal_curve\": [[-16.06, -15.84, -15.62, -15.4, -15.18, -14.96, -14.74, -14.52, -14.3, -14.08, -13.86, -13.64, -13.42, -13.2, -12.98, -12.76, -12.54, -12.32, -12.1, -11.88, -11.66, -11.44, -11.22, -11, -10.78, -10.56, -10.34, -10.12, -9.9, -9.68, -9.46, -9.24, -9.02, -8.8, -8.58, -8.36, -8.14, -7.92, -7.7, -7.48, -7.26, -7.04, -6.82, -6.6, -6.38, -6.16, -5.94, -5.72, -5.5, -5.28, -5.06, -4.84, -4.62, -4.4, -4.18, -3.96, -3.74, -3.52, -3.3, -3.08, -2.86, -2.64, -2.42, -2.2, -1.98, -1.76, -1.54, -1.32, -1.1, -0.88, -0.66, -0.44, -0.22, 0],\n",
    "                            [11.1, 11.1, 11.1, 11.1, 11.1, 11.1018, 11.1044, 11.107, 11.1096, 11.1122, 11.122, 11.136, 11.1499, 11.1638, 11.1778, 11.1917, 11.2056, 11.2196, 11.2335, 11.2541, 11.2803, 11.3065, 11.3327, 11.3589, 11.3851, 11.4112, 11.4374, 11.4636, 11.4899, 11.5162, 11.5426, 11.569, 11.5953, 11.6217, 11.648, 11.6744, 11.7008, 11.714, 11.7042, 11.6944, 11.6847, 11.6749, 11.6651, 11.6553, 11.6455, 11.6358, 11.5987, 11.4889, 11.379, 11.2692, 11.1593, 11.0495, 10.9397, 10.8298, 10.72, 10.5778, 10.2902, 10.0027, 9.71508, 9.42749, 9.1399, 8.85232, 8.56473, 8.27715, 7.9671, 7.43242, 6.89775, 6.36307, 5.82839, 5.29371, 4.75903, 4.22436, 3.68968, 3.155]]\n",
    "                }\n"
   ]
  },
  {
   "cell_type": "markdown",
   "metadata": {},
   "source": [
    "## 3. Run meshing-tool"
   ]
  },
  {
   "cell_type": "code",
   "execution_count": 7,
   "metadata": {},
   "outputs": [
    {
     "name": "stdout",
     "output_type": "stream",
     "text": [
      "Start meshing ...\n",
      " - 2D mesh created successful\n",
      " - Extrusion of 2D mesh successful\n",
      " - BHE meshing successful\n",
      " - Reordered 11808 elements\n",
      " - Topsurface extracted successfully\n",
      " - Bottomsurface extracted successfully\n",
      " - Inflowsurface extracted successfully\n",
      "Finish meshing\n"
     ]
    }
   ],
   "source": [
    "                      \n",
    "print(\"Start meshing ...\")\n",
    "# Initialize meshing tool\n",
    "bhemesh = BHEMesh(Mesh_name, meshInput)\n",
    " # To use a temperature profile defined via temperature_IC dict use:\n",
    "bhemesh.write_soil_temperature_IC(temperature_IC)\n",
    "# Start meshing\n",
    "bhemesh.write_mesh_to_VTK()\n",
    "# If there is groundwaterflow and surface meshes for inflow should be extracted use:\n",
    "sfmeshgeodir = bhemesh.extract_surfaces(IC = ['Inflow']) \n",
    "\n",
    "print(\"Finish meshing\")"
   ]
  }
 ],
 "metadata": {
  "kernelspec": {
   "display_name": "Python 3.9.7 64-bit",
   "language": "python",
   "name": "python3"
  },
  "language_info": {
   "codemirror_mode": {
    "name": "ipython",
    "version": 3
   },
   "file_extension": ".py",
   "mimetype": "text/x-python",
   "name": "python",
   "nbconvert_exporter": "python",
   "pygments_lexer": "ipython3",
   "version": "3.9.7"
  },
  "orig_nbformat": 4,
  "vscode": {
   "interpreter": {
    "hash": "aef0bf85555a863aad1505f3ef3b14ffc93bc60b00c124ab3644203e25d2d3ca"
   }
  }
 },
 "nbformat": 4,
 "nbformat_minor": 2
}

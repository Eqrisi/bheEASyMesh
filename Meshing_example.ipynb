{
 "cells": [
  {
   "cell_type": "markdown",
   "metadata": {},
   "source": [
    "## 1. Load python-module"
   ]
  },
  {
   "cell_type": "code",
   "execution_count": 1,
   "metadata": {},
   "outputs": [],
   "source": [
    "from bheEASyMesh.bhemeshing import BHEMesh"
   ]
  },
  {
   "cell_type": "markdown",
   "metadata": {},
   "source": [
    "## 2. Build meshes with \"simple\"-mode"
   ]
  },
  {
   "cell_type": "markdown",
   "metadata": {},
   "source": [
    "### 2.1 Define mesh-properties"
   ]
  },
  {
   "cell_type": "code",
   "execution_count": 2,
   "metadata": {},
   "outputs": [],
   "source": [
    "# Define name and path of the Mesh\n",
    "Mesh_name = 'Test_simple'"
   ]
  },
  {
   "cell_type": "code",
   "execution_count": 3,
   "metadata": {},
   "outputs": [],
   "source": [
    "# Define Mesh Input:\n",
    "meshInput = { \"WIDTH\": 50, # Width of Mesh in x-direction (x=0 at 0.5*WIDTH)\n",
    "              \"LENGTH\": 50, # Legnth of Mesh in y-direction\n",
    "              \"BOX\": [12.5, 25, 25], # optional, defines a rectangular area with finer meshing in the format: [y-origin value, width in x-direction symmetric to y-axis, length in y-direction from start value]. \n",
    "              \"ELEM_SIZE\": [5, 10], # Specifies the horizontal element edge lengths in the format: [horiz. element edge length in meters at the edge of the finer meshed area, horiz. Element edge length at the outer edge of the model in meters]\n",
    "              \"ADD_POINTS\": [[0,10,5], [0,40,7.5]], # optional, allows defining one or more nodes at specific geometric positions in the model in the format: [[x-coordinate, y-coordinate, horizontal element edge length directly at the node], [...,...]].\n",
    "              \"dzLAYER\": 5, # Specifies the vertical element edge length\n",
    "              \"dzREF\": 1, # Specifies the vertical element edge length in the refined mesh areas\n",
    "              \"nREF\":3, # Specifies the number of elements in refined mesh areas before and after an event. For example, with nREF = 2, at the transition to the aquifer, 2 elements would get the vertical element edge length dzREF before the transition and two elements after the transition\n",
    "              \"zExt\": 50, # Specifies by how many meters depth the model should be deeper than the current bhe tip\n",
    "              \"inflow_max_z\": -10, # Specifies the minimum depth above which groundwater flow can occur if Parameter z_aqf is variated automatically\n",
    "              \"BHELen\": 90, # bhe length\n",
    "              \"t_aqf\": 20, # thickness of Area with groundwater flow in [m]\n",
    "              \"z_aqf\": 5, # to z-level of Area with groundwater flow in [m] below inflow_max_z   \n",
    "              \"BHEs\":{\n",
    "                0:{ # Number of BHE\n",
    "                  \"Position\": [-5, 25], # Specifies the horizontal position of the bhe in the model in the format: [x-position, y-position ]. Note: x= 0 would be in the center of the model with respect to the x-direction\n",
    "                  \"Topend\": -0.5, # Definition of the depth of the upper end of the bhe\n",
    "                  \"Length\": 90, # bhe length\n",
    "                  \"r_b\": 0.076 # Borholeradius\n",
    "                  },\n",
    "                1:{\n",
    "                  \"Position\": [5, 25],\n",
    "                  \"Topend\": -0.5,\n",
    "                  \"Length\": 80,\n",
    "                  \"r_b\": 0.076\n",
    "                  }\n",
    "                }\n",
    "            }"
   ]
  },
  {
   "cell_type": "code",
   "execution_count": 4,
   "metadata": {},
   "outputs": [],
   "source": [
    "# Define Temperature IC:\n",
    "temperature_IC = {\"seasonal\": -15, # Depth at which the seasonal zone ends, which begins at the top of the terrain\n",
    "                \"neutral\": -30, # Depth in which the neutral zone ends\n",
    "                \"gradient\":0.032, # Geothermal gradient applied below the neutral zone\n",
    "                \"sf_temp\":3.155, # Initial temperature at the surface of the model (should match the value of the initial condition at the surface, if conditions are applied separately via surface meshes)\n",
    "                \"reference\": [99, 99], # Definition of a temperature at a certain depth to create the temperature profile. Used only if no curve is defined for the seasonal zone\n",
    "                \"seasonal_curve\": [[-16.06, -15.84, -15.62, -15.4, -15.18, -14.96, -14.74, -14.52, -14.3, -14.08, -13.86, -13.64, -13.42, -13.2, -12.98, -12.76, -12.54, -12.32, -12.1, -11.88, -11.66, -11.44, -11.22, -11, -10.78, -10.56, -10.34, -10.12, -9.9, -9.68, -9.46, -9.24, -9.02, -8.8, -8.58, -8.36, -8.14, -7.92, -7.7, -7.48, -7.26, -7.04, -6.82, -6.6, -6.38, -6.16, -5.94, -5.72, -5.5, -5.28, -5.06, -4.84, -4.62, -4.4, -4.18, -3.96, -3.74, -3.52, -3.3, -3.08, -2.86, -2.64, -2.42, -2.2, -1.98, -1.76, -1.54, -1.32, -1.1, -0.88, -0.66, -0.44, -0.22, 0],\n",
    "                            [11.1, 11.1, 11.1, 11.1, 11.1, 11.1018, 11.1044, 11.107, 11.1096, 11.1122, 11.122, 11.136, 11.1499, 11.1638, 11.1778, 11.1917, 11.2056, 11.2196, 11.2335, 11.2541, 11.2803, 11.3065, 11.3327, 11.3589, 11.3851, 11.4112, 11.4374, 11.4636, 11.4899, 11.5162, 11.5426, 11.569, 11.5953, 11.6217, 11.648, 11.6744, 11.7008, 11.714, 11.7042, 11.6944, 11.6847, 11.6749, 11.6651, 11.6553, 11.6455, 11.6358, 11.5987, 11.4889, 11.379, 11.2692, 11.1593, 11.0495, 10.9397, 10.8298, 10.72, 10.5778, 10.2902, 10.0027, 9.71508, 9.42749, 9.1399, 8.85232, 8.56473, 8.27715, 7.9671, 7.43242, 6.89775, 6.36307, 5.82839, 5.29371, 4.75903, 4.22436, 3.68968, 3.155]] # optional, definition of a depth-dependent temperature curve for the range of the seasonal zone in the format [[z_1, ..., z_n],[T_1, ..., T_n]]. Without seasonal_curve, a linear temperature curve is applied between sf_temp and the neutral zone\n",
    "                }"
   ]
  },
  {
   "cell_type": "markdown",
   "metadata": {},
   "source": [
    "### 2.2 Run meshing-tool"
   ]
  },
  {
   "cell_type": "code",
   "execution_count": 5,
   "metadata": {},
   "outputs": [
    {
     "name": "stdout",
     "output_type": "stream",
     "text": [
      "Start meshing ...\n",
      " - 2D mesh created successful\n",
      " - Extrusion of 2D mesh successful\n",
      " - BHE meshing successful\n",
      " - Reordered 24030 elements\n",
      " - Topsurface extracted successfully\n",
      " - Bottomsurface extracted successfully\n",
      " - Back_inflowsurface extracted successfully\n",
      " - Frontsurface extracted successfully\n",
      " - Rightsurface extracted successfully\n",
      " - Leftsurface extracted successfully\n",
      "Finish meshing\n"
     ]
    }
   ],
   "source": [
    "print(\"Start meshing ...\")\n",
    "# Initialize meshing tool\n",
    "bhemesh = BHEMesh(Mesh_name, meshInput, mode = \"simple\")\n",
    "#optional; to use a temperature profile defined via temperature_IC-dict use:\n",
    "bhemesh.write_soil_temperature_IC(temperature_IC)\n",
    "# Start meshing\n",
    "bhemesh.write_mesh_to_VTK()\n",
    "# optional; if there is groundwaterflow and surface meshes for inflow should be extracted use:\n",
    "    # Type: List of surfaces to extract. Possible are Top, Bottom, Back, Front, Right, Left. If the postfix \"_inflow\" is used for one of the vertical sufraces, the mesh will only be extracted for the area where Groundwaterflow is defined via t_aqf and z_aqf.\n",
    "    # IC: List of surfaces to which the temperature_IC is to be applied.\n",
    "sfmeshgeodir = bhemesh.extract_surfaces(sf_types = ['Top', 'Bottom', 'Back_inflow', 'Front', 'Right', 'Left'], IC = ['Back_inflow']) \n",
    "print(\"Finish meshing\")"
   ]
  },
  {
   "cell_type": "markdown",
   "metadata": {},
   "source": [
    "## 3. Build meshes with \"layered\"-mode"
   ]
  },
  {
   "cell_type": "markdown",
   "metadata": {},
   "source": [
    "### 3.1 Define mesh-properties"
   ]
  },
  {
   "cell_type": "code",
   "execution_count": 6,
   "metadata": {},
   "outputs": [],
   "source": [
    "# Define name and path of the Mesh\n",
    "Mesh_name = 'Test_layered'"
   ]
  },
  {
   "cell_type": "code",
   "execution_count": 7,
   "metadata": {},
   "outputs": [],
   "source": [
    "meshInput = { \"WIDTH\": 75, # Width of Mesh in x-direction (x=0 at 0.5*WIDTH)\n",
    "              \"LENGTH\": 75, # Legnth of Mesh in y-direction\n",
    "              \"ELEM_SIZE\": 10, # Specifies the horizontal element edge lengths at the outer edge of the model in meters\n",
    "              \"BOXES\": [[-20, 30, 15, 15, 3], [5, 30, 15, 15, 3]], # Defines a rectangular area with finer meshing in the format: [x-origin value, y-origin value, width in x-direction, length in y-direction from start value, horiz. element edge length in meters at the edge of the finer meshed area]. \n",
    "              \"ADD_POINTS\": [[0,10,5], [0,40,7.5]], # optional, allows defining one or more nodes at specific geometric positions in the model in the format: [[x-coordinate, y-coordinate, horizontal element edge length directly at the node], [...,...]].\n",
    "              \"BHEs\":{\n",
    "                0:{ # Number of BHE\n",
    "                  \"Position\": [-12.5, 37.5], # Specifies the horizontal position of the bhe in the model in the format: [x-position, y-position ]. Note: x= 0 would be in the center of the model with respect to the x-direction\n",
    "                  \"Topend\": -0.5, # Definition of the depth of the upper end of the bhe\n",
    "                  \"Length\": 90, # bhe length\n",
    "                  \"r_b\": 0.076 # Borholeradius\n",
    "                  },\n",
    "                1:{\n",
    "                  \"Position\": [12.5, 37.5],\n",
    "                  \"Topend\": -0.5,\n",
    "                  \"Length\": 80,\n",
    "                  \"r_b\": 0.076\n",
    "                  }\n",
    "                },\n",
    "              \"LAYERING\":[ # Layers define the vertikal meshing. Define as much layers as needed in style [Materialgroup, number of Elements, vertikal Thickness of Element]. Be aware, that the Layers have to fit the top- and bottomend of each bhe.\n",
    "                    [0, 2, 0.5],\n",
    "                    [0, 5, 5],\n",
    "                    [0, 2, 1],\n",
    "                    [1, 2, 1],\n",
    "                    [1, 4, 5],\n",
    "                    [1, 2, 1],\n",
    "                    [3, 3, 1],\n",
    "                    [3, 4, 5],\n",
    "                    [3, 1, 3],\n",
    "                    [3, 2, 1],\n",
    "                    [3, 1, 0.5],\n",
    "                    [3, 2, 1],\n",
    "                    [3, 1, 3],\n",
    "                    [4, 1, 3],\n",
    "                    [4, 4, 1],\n",
    "                    [4, 1, 3],\n",
    "                    [4, 3, 5]\n",
    "                  ]\n",
    "            }"
   ]
  },
  {
   "cell_type": "code",
   "execution_count": 8,
   "metadata": {},
   "outputs": [],
   "source": [
    " # Define Temperature IC:\n",
    "temperature_IC = {\"seasonal\": -15, # Depth at which the seasonal zone ends, which begins at the top of the terrain\n",
    "                \"neutral\": -30, # Depth in which the neutral zone ends\n",
    "                \"gradient\":0.032, # Geothermal gradient applied below the neutral zone\n",
    "                \"sf_temp\":3.155, # Initial temperature at the surface of the model (should match the value of the initial condition at the surface, if conditions are applied separately via surface meshes)\n",
    "                \"reference\": [99, 99], # Definition of a temperature at a certain depth to create the temperature profile. Used only if no curve is defined for the seasonal zone\n",
    "                \"seasonal_curve\": [[-16.06, -15.84, -15.62, -15.4, -15.18, -14.96, -14.74, -14.52, -14.3, -14.08, -13.86, -13.64, -13.42, -13.2, -12.98, -12.76, -12.54, -12.32, -12.1, -11.88, -11.66, -11.44, -11.22, -11, -10.78, -10.56, -10.34, -10.12, -9.9, -9.68, -9.46, -9.24, -9.02, -8.8, -8.58, -8.36, -8.14, -7.92, -7.7, -7.48, -7.26, -7.04, -6.82, -6.6, -6.38, -6.16, -5.94, -5.72, -5.5, -5.28, -5.06, -4.84, -4.62, -4.4, -4.18, -3.96, -3.74, -3.52, -3.3, -3.08, -2.86, -2.64, -2.42, -2.2, -1.98, -1.76, -1.54, -1.32, -1.1, -0.88, -0.66, -0.44, -0.22, 0],\n",
    "                            [11.1, 11.1, 11.1, 11.1, 11.1, 11.1018, 11.1044, 11.107, 11.1096, 11.1122, 11.122, 11.136, 11.1499, 11.1638, 11.1778, 11.1917, 11.2056, 11.2196, 11.2335, 11.2541, 11.2803, 11.3065, 11.3327, 11.3589, 11.3851, 11.4112, 11.4374, 11.4636, 11.4899, 11.5162, 11.5426, 11.569, 11.5953, 11.6217, 11.648, 11.6744, 11.7008, 11.714, 11.7042, 11.6944, 11.6847, 11.6749, 11.6651, 11.6553, 11.6455, 11.6358, 11.5987, 11.4889, 11.379, 11.2692, 11.1593, 11.0495, 10.9397, 10.8298, 10.72, 10.5778, 10.2902, 10.0027, 9.71508, 9.42749, 9.1399, 8.85232, 8.56473, 8.27715, 7.9671, 7.43242, 6.89775, 6.36307, 5.82839, 5.29371, 4.75903, 4.22436, 3.68968, 3.155]] # optional, definition of a depth-dependent temperature curve for the range of the seasonal zone in the format [[z_1, ..., z_n],[T_1, ..., T_n]]. Without seasonal_curve, a linear temperature curve is applied between sf_temp and the neutral zone\n",
    "                }"
   ]
  },
  {
   "cell_type": "code",
   "execution_count": 9,
   "metadata": {},
   "outputs": [
    {
     "name": "stdout",
     "output_type": "stream",
     "text": [
      "Start meshing ...\n",
      " - 2D mesh created successful\n",
      " - Extrusion of 2D mesh successful\n",
      " - BHE meshing successful\n",
      " - Reordered 21360 elements\n",
      " - Topsurface extracted successfully\n",
      " - Bottomsurface extracted successfully\n",
      " - Backsurface extracted successfully\n",
      " - Frontsurface extracted successfully\n",
      " - Rightsurface extracted successfully\n",
      " - Leftsurface extracted successfully\n",
      "Finish meshing\n"
     ]
    }
   ],
   "source": [
    "print(\"Start meshing ...\")\n",
    "# Initialize meshing tool\n",
    "bhemesh = BHEMesh(Mesh_name, meshInput, mode = \"layered\")\n",
    "#optional; to use a temperature profile defined via temperature_IC-dict use:\n",
    "bhemesh.write_soil_temperature_IC(temperature_IC)\n",
    "# Start meshing\n",
    "bhemesh.write_mesh_to_VTK()\n",
    "# optional; if there is groundwaterflow and surface meshes for inflow should be extracted use:\n",
    "    # Type: List of surfaces to extract. Possible are Top, Bottom, Back, Front, Right, Left. If the postfix \"_inflow\" is used for one of the vertical sufraces, the mesh will only be extracted for the area where Groundwaterflow is defined via t_aqf and z_aqf.\n",
    "    # IC: List of surfaces to which the temperature_IC is to be applied.\n",
    "sfmeshgeodir = bhemesh.extract_surfaces(sf_types = ['Top', 'Bottom', 'Back', 'Front', 'Right', 'Left'], IC = ['Back_inflow']) \n",
    "print(\"Finish meshing\")"
   ]
  }
 ],
 "metadata": {
  "kernelspec": {
   "display_name": "Python 3.9.7 64-bit",
   "language": "python",
   "name": "python3"
  },
  "language_info": {
   "codemirror_mode": {
    "name": "ipython",
    "version": 3
   },
   "file_extension": ".py",
   "mimetype": "text/x-python",
   "name": "python",
   "nbconvert_exporter": "python",
   "pygments_lexer": "ipython3",
   "version": "3.9.7"
  },
  "orig_nbformat": 4,
  "vscode": {
   "interpreter": {
    "hash": "aef0bf85555a863aad1505f3ef3b14ffc93bc60b00c124ab3644203e25d2d3ca"
   }
  }
 },
 "nbformat": 4,
 "nbformat_minor": 2
}
